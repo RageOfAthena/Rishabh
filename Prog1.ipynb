{
 "cells": [
  {
   "cell_type": "code",
   "execution_count": 4,
   "id": "ee81ff4c-a47a-42e5-9efa-a5e5a9f69e76",
   "metadata": {},
   "outputs": [
    {
     "data": {
      "text/plain": [
       "['A', 'E', 'D', 'G']"
      ]
     },
     "execution_count": 4,
     "metadata": {},
     "output_type": "execute_result"
    }
   ],
   "source": [
    "def aStarAlgo(s,e):\n",
    "    os=set(s)\n",
    "    cs=set()\n",
    "    g={}\n",
    "    p={}\n",
    "    g[s]=0\n",
    "    p[s]=s\n",
    "    while len(os)>0:\n",
    "        n=None\n",
    "        for v in os:\n",
    "            if n==None or g[v]+h(v)<g[n]+h(n):\n",
    "                n=v\n",
    "        if n==e:\n",
    "            pass\n",
    "        else:\n",
    "            for (m,w) in gn(n):\n",
    "                if m not in os and m not in cs:\n",
    "                    os.add(m)\n",
    "                    g[m]=g[n]+w\n",
    "                    p[m]=n;\n",
    "                else:\n",
    "                    if g[m]>g[n]+w:\n",
    "                        g[m]=g[n]+w\n",
    "                        p[m]=n;\n",
    "                        if m in cs:\n",
    "                            cs.remove(m)\n",
    "                            os.add(m)\n",
    "        if n==None:\n",
    "            print(\"e\")\n",
    "            return None\n",
    "        if n==e:\n",
    "            path=[]\n",
    "            while p[n]!=n:\n",
    "                path.append(n)\n",
    "                n=p[n]\n",
    "            path.append(s)\n",
    "            path.reverse()\n",
    "            # print('{}'.format(path))\n",
    "            return path\n",
    "        os.remove(n)\n",
    "        cs.add(n)\n",
    "    return None\n",
    "def gn(n):\n",
    "    if n in Graph:\n",
    "        return Graph[n]\n",
    "    else:\n",
    "        return None\n",
    "def h(n):\n",
    "    heu={\n",
    "            'A': 11,\n",
    "            'B': 6,\n",
    "            'C': 99,\n",
    "            'D': 1,\n",
    "            'E': 7,\n",
    "            'G': 0,\n",
    "    }\n",
    "    return heu[n]\n",
    "Graph={\n",
    "    'A': [('B', 2), ('E', 3)],\n",
    "    'B': [('C', 1),('G', 9)],\n",
    "    'C': None,\n",
    "    'E': [('D', 6)],\n",
    "    'D': [('G', 1)],\n",
    "}\n",
    "aStarAlgo('A','G')"
   ]
  },
  {
   "cell_type": "code",
   "execution_count": null,
   "id": "59325f43",
   "metadata": {},
   "outputs": [],
   "source": []
  }
 ],
 "metadata": {
  "kernelspec": {
   "display_name": "Python 3 (ipykernel)",
   "language": "python",
   "name": "python3"
  },
  "language_info": {
   "codemirror_mode": {
    "name": "ipython",
    "version": 3
   },
   "file_extension": ".py",
   "mimetype": "text/x-python",
   "name": "python",
   "nbconvert_exporter": "python",
   "pygments_lexer": "ipython3",
   "version": "3.9.13"
  }
 },
 "nbformat": 4,
 "nbformat_minor": 5
}
