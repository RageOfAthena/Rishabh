{
 "cells": [
  {
   "cell_type": "code",
   "execution_count": 5,
   "id": "d023fc01",
   "metadata": {},
   "outputs": [
    {
     "name": "stdout",
     "output_type": "stream",
     "text": [
      "outlook:rainy\n",
      "temperature:cool\n",
      "humidity:high\n",
      "wind:Weak\n",
      "{'outlook': 'rainy', 'temperature': 'cool', 'humidity': 'high', 'wind': 'Weak'}\n",
      "yes\n"
     ]
    }
   ],
   "source": [
    "import pandas as pd\n",
    "import math\n",
    "class Node:\n",
    "    def __init__(self,l):\n",
    "        self.label=l\n",
    "        self.branch={}\n",
    "def entropy(data):\n",
    "    l=len(data)\n",
    "    p=len(data.loc[data['play']=='yes'])\n",
    "    n=len(data.loc[data['play']=='no'])\n",
    "    pp=p/float(l)\n",
    "    pn=n/float(l)\n",
    "    e=0\n",
    "    if pp>0:\n",
    "        e=-pp*math.log(pp,2)\n",
    "    if pn>0:\n",
    "        e+=-pn*math.log(pn,2)\n",
    "    return e\n",
    "def gain(en,data_s,attr):\n",
    "    values=set(data_s[attr])\n",
    "    gain=en\n",
    "    for value in values:\n",
    "        gain-=len(data_s.loc[data_s[attr]==value])/float(len(data_s))*entropy(data_s.loc[data_s[attr]==value])\n",
    "    return gain\n",
    "def getAttr(data):\n",
    "    en=entropy(data)\n",
    "    attr=\"\"\n",
    "    max=0\n",
    "    for att in data.columns[:len(data.columns)-1]:\n",
    "        g=gain(en,data,att)\n",
    "        if g>max:\n",
    "            max=g\n",
    "            attr=att\n",
    "    return attr;\n",
    "def dT(data):\n",
    "    root=Node(\"NULL\");\n",
    "    if entropy(data)==0:\n",
    "        if len(data.loc[data[data.columns[-1]]==\"yes\"])==len(data):\n",
    "            root.label=\"yes\"\n",
    "        else:\n",
    "            root.label=\"no\"\n",
    "        return root\n",
    "    else:\n",
    "        attr=getAttr(data)\n",
    "        root.label=attr\n",
    "        values=set(data[attr])\n",
    "        for value in values:\n",
    "            root.branch[value]=dT(data.loc[data[attr]==value])\n",
    "    return root;\n",
    "def test(tree,test_str):\n",
    "    if not tree.branch:\n",
    "        return tree.label\n",
    "    if str(test_str[tree.label])==\"True\" or str(test_str[tree.label])==\"False\":\n",
    "        return tree.branch[str(test_str[tree.label])];\n",
    "    return test(tree.branch[str(test_str[tree.label])],test_str)\n",
    "data=pd.read_csv('Tennis.csv')\n",
    "tree=dT(data)\n",
    "test_str={}\n",
    "for attr in data.columns[:-1]:\n",
    "    test_str[attr]=input(attr+\":\")\n",
    "print(test_str)\n",
    "print(test(tree,test_str))"
   ]
  },
  {
   "cell_type": "code",
   "execution_count": null,
   "id": "681c0620",
   "metadata": {},
   "outputs": [],
   "source": []
  }
 ],
 "metadata": {
  "kernelspec": {
   "display_name": "Python 3 (ipykernel)",
   "language": "python",
   "name": "python3"
  },
  "language_info": {
   "codemirror_mode": {
    "name": "ipython",
    "version": 3
   },
   "file_extension": ".py",
   "mimetype": "text/x-python",
   "name": "python",
   "nbconvert_exporter": "python",
   "pygments_lexer": "ipython3",
   "version": "3.9.13"
  }
 },
 "nbformat": 4,
 "nbformat_minor": 5
}
