{
 "cells": [
  {
   "cell_type": "code",
   "execution_count": 1,
   "id": "b47a4dc7",
   "metadata": {},
   "outputs": [
    {
     "name": "stdout",
     "output_type": "stream",
     "text": [
      "Input [[0.66666667 1.        ]\n",
      " [0.33333333 0.55555556]\n",
      " [1.         0.66666667]]\n",
      "Actual [[0.92]\n",
      " [0.86]\n",
      " [0.89]]\n",
      "pred [[0.84486136]\n",
      " [0.83398901]\n",
      " [0.84616427]]\n",
      "0.04095053672790527\n"
     ]
    }
   ],
   "source": [
    "import numpy as np\n",
    "import pandas as pd\n",
    "import time\n",
    "X=np.array([[2,9],[1,5],[3,6]],dtype=float)\n",
    "Y=np.array([[92],[86],[89]],dtype=float)\n",
    "X=X/np.amax(X,axis=0)\n",
    "Y=Y/100\n",
    "start=time.time()\n",
    "def s(x):\n",
    "    return 1/(1+np.exp(-x))\n",
    "def ds(x):\n",
    "    return x*(1-x)\n",
    "e=700\n",
    "lr=0.1\n",
    "inp=2\n",
    "hidd=3\n",
    "out=1\n",
    "wh=np.random.uniform(size=(inp,hidd))\n",
    "bh=np.random.uniform(size=(1,hidd))\n",
    "wout=np.random.uniform(size=(hidd,out))\n",
    "bout=np.random.uniform(size=(1,out))\n",
    "for i in range(e):\n",
    "    h1=np.dot(X,wh)+bh\n",
    "    o1=np.dot(s(h1),wout)+bout\n",
    "    output=s(o1)\n",
    "    d=(Y-output)*ds(output)\n",
    "    h=d.dot(wout.T)*ds(h1)\n",
    "end=time.time()\n",
    "print(\"Input\",str(X))\n",
    "print(\"Actual\",str(Y))\n",
    "print(\"pred\",str(output))\n",
    "print(end-start)"
   ]
  },
  {
   "cell_type": "code",
   "execution_count": null,
   "id": "0af72089",
   "metadata": {},
   "outputs": [],
   "source": []
  }
 ],
 "metadata": {
  "kernelspec": {
   "display_name": "Python 3 (ipykernel)",
   "language": "python",
   "name": "python3"
  },
  "language_info": {
   "codemirror_mode": {
    "name": "ipython",
    "version": 3
   },
   "file_extension": ".py",
   "mimetype": "text/x-python",
   "name": "python",
   "nbconvert_exporter": "python",
   "pygments_lexer": "ipython3",
   "version": "3.9.13"
  }
 },
 "nbformat": 4,
 "nbformat_minor": 5
}
