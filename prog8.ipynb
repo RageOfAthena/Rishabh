{
 "cells": [
  {
   "cell_type": "code",
   "execution_count": 5,
   "id": "16562cd0",
   "metadata": {},
   "outputs": [
    {
     "name": "stdout",
     "output_type": "stream",
     "text": [
      "(135, 4) (135,)\n",
      "(15, 4) (15,)\n",
      "label 0 setosa\n",
      "label 1 versicolor\n",
      "label 2 virginica\n",
      "[5.  3.4 1.5 0.2] 0 0\n",
      "[6.7 3.  5.  1.7] 1 1\n",
      "[6.1 2.9 4.7 1.4] 1 1\n",
      "[5.8 2.7 5.1 1.9] 2 2\n",
      "[4.9 3.6 1.4 0.1] 0 0\n",
      "[6.3 3.3 4.7 1.6] 1 1\n",
      "[6.6 3.  4.4 1.4] 1 1\n",
      "[5.5 2.4 3.8 1.1] 1 1\n",
      "[5.  2.  3.5 1. ] 1 1\n",
      "[7.2 3.  5.8 1.6] 2 2\n",
      "[5.5 4.2 1.4 0.2] 0 0\n",
      "[6.3 2.7 4.9 1.8] 2 2\n",
      "[5.2 3.5 1.5 0.2] 0 0\n",
      "[6.4 2.9 4.3 1.3] 1 1\n",
      "[7.7 3.8 6.7 2.2] 2 2\n",
      "              precision    recall  f1-score   support\n",
      "\n",
      "           0       1.00      1.00      1.00         4\n",
      "           1       1.00      1.00      1.00         7\n",
      "           2       1.00      1.00      1.00         4\n",
      "\n",
      "    accuracy                           1.00        15\n",
      "   macro avg       1.00      1.00      1.00        15\n",
      "weighted avg       1.00      1.00      1.00        15\n",
      "\n",
      "[[4 0 0]\n",
      " [0 7 0]\n",
      " [0 0 4]]\n"
     ]
    },
    {
     "name": "stderr",
     "output_type": "stream",
     "text": [
      "C:\\Users\\DELL\\anaconda3\\lib\\site-packages\\sklearn\\neighbors\\_classification.py:228: FutureWarning: Unlike other reduction functions (e.g. `skew`, `kurtosis`), the default behavior of `mode` typically preserves the axis it acts along. In SciPy 1.11.0, this behavior will change: the default value of `keepdims` will become False, the `axis` over which the statistic is taken will be eliminated, and the value None will no longer be accepted. Set `keepdims` to True or False to avoid this warning.\n",
      "  mode, _ = stats.mode(_y[neigh_ind, k], axis=1)\n"
     ]
    }
   ],
   "source": [
    "from sklearn.model_selection import train_test_split\n",
    "from sklearn.neighbors import KNeighborsClassifier\n",
    "from sklearn import datasets\n",
    "iris=datasets.load_iris()\n",
    "x_train,x_test,y_train,y_test=train_test_split(iris.data,iris.target,test_size=0.1)\n",
    "print(x_train.shape,y_train.shape)\n",
    "print(x_test.shape,y_test.shape)\n",
    "for i in range(0,len(iris.target_names)):\n",
    "    print(\"label\",i,iris.target_names[i])\n",
    "c=KNeighborsClassifier(n_neighbors=1)\n",
    "c.fit(x_train,y_train)\n",
    "y_pred=c.predict(x_test)\n",
    "for i in range(0,len(x_test)):\n",
    "    print(x_test[i],y_test[i],y_pred[i])\n",
    "from sklearn.metrics import classification_report,confusion_matrix\n",
    "print(classification_report(y_test,y_pred))\n",
    "print(confusion_matrix(y_test,y_pred))"
   ]
  },
  {
   "cell_type": "code",
   "execution_count": null,
   "id": "55a36199",
   "metadata": {},
   "outputs": [],
   "source": []
  }
 ],
 "metadata": {
  "kernelspec": {
   "display_name": "Python 3 (ipykernel)",
   "language": "python",
   "name": "python3"
  },
  "language_info": {
   "codemirror_mode": {
    "name": "ipython",
    "version": 3
   },
   "file_extension": ".py",
   "mimetype": "text/x-python",
   "name": "python",
   "nbconvert_exporter": "python",
   "pygments_lexer": "ipython3",
   "version": "3.9.13"
  }
 },
 "nbformat": 4,
 "nbformat_minor": 5
}
