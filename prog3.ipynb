{
 "cells": [
  {
   "cell_type": "code",
   "execution_count": 1,
   "id": "a93c7180",
   "metadata": {},
   "outputs": [
    {
     "name": "stdout",
     "output_type": "stream",
     "text": [
      "s0 ['0', '0', '0', '0', '0', '0', '0']\n",
      "s1 ['Sunny' 'Warm' 'Normal' 'Strong' 'Warm' 'Same']\n",
      "g0 [['?', '?', '?', '?', '?', '?'], ['?', '?', '?', '?', '?', '?'], ['?', '?', '?', '?', '?', '?'], ['?', '?', '?', '?', '?', '?'], ['?', '?', '?', '?', '?', '?'], ['?', '?', '?', '?', '?', '?']]\n"
     ]
    }
   ],
   "source": [
    "import numpy as np\n",
    "import pandas as pd\n",
    "data=pd.DataFrame(data=pd.read_csv('finds.csv'))\n",
    "c=np.array(data.iloc[:,0:-1])\n",
    "t=np.array(data.iloc[:,-1])\n",
    "def learn (c,t):\n",
    "    sh=['0','0','0','0','0','0','0']\n",
    "    print('s0',sh)\n",
    "    sh=c[0].copy()\n",
    "    print('s1',sh)\n",
    "    gh=[[\"?\" for i in range(len(sh))] for i in range(len(sh))]\n",
    "    print('g0',gh)\n",
    "    for i,h in enumerate(c):\n",
    "        if t[i]=='Yes':\n",
    "            for x in range(len(sh)):\n",
    "                if h[x]!=sh[x]:\n",
    "                    sh[x]='?'\n",
    "                    gh[x][x]='?'\n",
    "#                     print(sh)\n",
    "#                     print(gh)\n",
    "        if t[i]=='No':\n",
    "            for x in range(len(sh)):\n",
    "                if h[x]!=sh[x]:\n",
    "                    gh[x][x]=sh\n",
    "        else:\n",
    "            gh[x][x]='?'\n",
    "    indices=[i for i,value in enumerate(gh) if value==['?','?','?','?','?','?','?']]\n",
    "    for i in indices:\n",
    "        gh.remove(['?','?','?','?','?','?','?'])\n",
    "        print(i)\n",
    "    return sh,gh\n",
    "sh,gh=learn(c,t)"
   ]
  },
  {
   "cell_type": "code",
   "execution_count": 3,
   "id": "13f94d74",
   "metadata": {},
   "outputs": [
    {
     "name": "stdout",
     "output_type": "stream",
     "text": [
      "['Sunny' 'Warm' '?' 'Strong' 'Warm' 'Same']\n",
      "[['?', '?', '?', '?', '?', '?'], ['?', '?', '?', '?', '?', '?'], ['?', '?', '?', '?', '?', '?'], ['?', '?', '?', '?', '?', '?'], ['?', '?', '?', '?', '?', '?'], ['?', '?', '?', '?', '?', '?']]\n",
      "['Sunny' 'Warm' '?' 'Strong' 'Warm' 'Same']\n",
      "[[array(['Sunny', 'Warm', '?', 'Strong', 'Warm', 'Same'], dtype=object), '?', '?', '?', '?', '?'], ['?', array(['Sunny', 'Warm', '?', 'Strong', 'Warm', 'Same'], dtype=object), '?', '?', '?', '?'], ['?', '?', '?', '?', '?', '?'], ['?', '?', '?', '?', '?', '?'], ['?', '?', '?', '?', '?', '?'], ['?', '?', '?', '?', '?', array(['Sunny', 'Warm', '?', 'Strong', 'Warm', 'Same'], dtype=object)]]\n",
      "['Sunny' 'Warm' '?' 'Strong' '?' 'Same']\n",
      "[[array(['Sunny', 'Warm', '?', 'Strong', '?', 'Same'], dtype=object), '?', '?', '?', '?', '?'], ['?', array(['Sunny', 'Warm', '?', 'Strong', '?', 'Same'], dtype=object), '?', '?', '?', '?'], ['?', '?', '?', '?', '?', '?'], ['?', '?', '?', '?', '?', '?'], ['?', '?', '?', '?', '?', '?'], ['?', '?', '?', '?', '?', array(['Sunny', 'Warm', '?', 'Strong', '?', 'Same'], dtype=object)]]\n",
      "['Sunny' 'Warm' '?' 'Strong' '?' '?']\n",
      "[[array(['Sunny', 'Warm', '?', 'Strong', '?', '?'], dtype=object), '?', '?', '?', '?', '?'], ['?', array(['Sunny', 'Warm', '?', 'Strong', '?', '?'], dtype=object), '?', '?', '?', '?'], ['?', '?', '?', '?', '?', '?'], ['?', '?', '?', '?', '?', '?'], ['?', '?', '?', '?', '?', '?'], ['?', '?', '?', '?', '?', '?']]\n"
     ]
    }
   ],
   "source": [
    "import numpy as np\n",
    "import pandas as pd\n",
    "data=pd.DataFrame(data=pd.read_csv('finds.csv'))\n",
    "c=np.array(data.iloc[:,0:-1])\n",
    "t=np.array(data.iloc[:,-1])\n",
    "def learn(c,t):\n",
    "    sh=['0','0','0','0','0','0','0']\n",
    "    sh=c[0].copy()\n",
    "    gh=[['?' for i in range(len(sh))] for i in range(len(sh))]\n",
    "    for i,h in enumerate(c):\n",
    "        if t[i]=='Yes':\n",
    "            for x in range(len(sh)):\n",
    "                if sh[x]!=h[x]:\n",
    "                    sh[x]='?'\n",
    "                    gh[x][x]='?'\n",
    "                    print(sh)\n",
    "                    print(gh)\n",
    "        if t[i]=='No':\n",
    "            for x in range(len(sh)):\n",
    "                if sh[x]!=h[x]:\n",
    "                    gh[x][x]=sh\n",
    "        else:\n",
    "            gh[x][x]='?'\n",
    "    indices=[i for i,value in enumerate(gh) if value==['?','?','?','?','?','?','?']]\n",
    "    for i in indices:\n",
    "        gh.remove(['?','?','?','?','?','?','?'])\n",
    "        print(i)\n",
    "    return sh,gh\n",
    "sh,gh=learn(c,t)"
   ]
  },
  {
   "cell_type": "code",
   "execution_count": null,
   "id": "56c57531",
   "metadata": {},
   "outputs": [],
   "source": []
  }
 ],
 "metadata": {
  "kernelspec": {
   "display_name": "Python 3 (ipykernel)",
   "language": "python",
   "name": "python3"
  },
  "language_info": {
   "codemirror_mode": {
    "name": "ipython",
    "version": 3
   },
   "file_extension": ".py",
   "mimetype": "text/x-python",
   "name": "python",
   "nbconvert_exporter": "python",
   "pygments_lexer": "ipython3",
   "version": "3.9.13"
  }
 },
 "nbformat": 4,
 "nbformat_minor": 5
}
